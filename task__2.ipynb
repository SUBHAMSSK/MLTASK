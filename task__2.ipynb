{
  "cells": [
    {
      "cell_type": "markdown",
      "metadata": {
        "id": "view-in-github",
        "colab_type": "text"
      },
      "source": [
        "<a href=\"https://colab.research.google.com/github/SUBHAMSSK/MLTASK/blob/main/task__2.ipynb\" target=\"_parent\"><img src=\"https://colab.research.google.com/assets/colab-badge.svg\" alt=\"Open In Colab\"/></a>"
      ]
    },
    {
      "cell_type": "code",
      "source": [
        "!pip install -q langgraph langchain langchain-google-genai google-generativeai\n"
      ],
      "metadata": {
        "colab": {
          "base_uri": "https://localhost:8080/"
        },
        "id": "v9JjnN_EVj59",
        "outputId": "0c9b565e-80b1-421e-9b76-d52103f4f9fa"
      },
      "execution_count": 17,
      "outputs": [
        {
          "output_type": "stream",
          "name": "stdout",
          "text": [
            "\u001b[?25l   \u001b[90m━━━━━━━━━━━━━━━━━━━━━━━━━━━━━━━━━━━━━━━━\u001b[0m \u001b[32m0.0/42.0 kB\u001b[0m \u001b[31m?\u001b[0m eta \u001b[36m-:--:--\u001b[0m\r\u001b[2K   \u001b[90m━━━━━━━━━━━━━━━━━━━━━━━━━━━━━━━━━━━━━━━━\u001b[0m \u001b[32m42.0/42.0 kB\u001b[0m \u001b[31m3.2 MB/s\u001b[0m eta \u001b[36m0:00:00\u001b[0m\n",
            "\u001b[?25h"
          ]
        }
      ]
    },
    {
      "cell_type": "code",
      "source": [
        "import os\n",
        "from getpass import getpass\n",
        "os.environ[\"GOOGLE_API_KEY\"] = getpass(\"🔐 Enter your Google API Key: \")\n",
        "from langchain_google_genai import ChatGoogleGenerativeAI\n",
        "\n",
        "llm = ChatGoogleGenerativeAI(\n",
        "    model=\"gemini-1.5-flash\",\n",
        "    temperature=0.3\n",
        ")\n",
        "from langgraph.graph import StateGraph, END\n",
        "from langchain_core.runnables import RunnableLambda\n",
        "from typing import TypedDict\n",
        "from langchain_core.tools import tool\n",
        "\n",
        "class GraphState(TypedDict):\n",
        "    input : str\n",
        "    output : str\n",
        "\n",
        "@tool\n",
        "def calculator_tool(expression: str) -> str:\n",
        "    \"\"\"Evaluate a basic arithmetic expression like 2+3 or (4*5)-2.\"\"\"\n",
        "    try:\n",
        "        allowed_chars = \"1234567890*+/-() \"\n",
        "        if all(ch in allowed_chars for ch in expression):\n",
        "            expression = expression.replace(\" \", \"\")\n",
        "            return f\"The value of the expression is {eval(expression)}\"\n",
        "        else:\n",
        "            return llm.invoke(expression).content\n",
        "    except Exception as e:\n",
        "        return f\"The error is: {e}\"\n",
        "\n",
        "\n",
        "def chatbot_node(state: GraphState) -> GraphState:\n",
        "  user_input = state[\"input\"]\n",
        "  if any(operator in user_input for operator in \"+-/*\"):\n",
        "    state[\"output\"] = state[\"output\"] + calculator_tool(user_input)\n",
        "  else:\n",
        "    state[\"output\"] = state[\"output\"] + llm.invoke(user_input).content\n",
        "  return state\n",
        "\n",
        "graph = StateGraph(GraphState)\n",
        "graph.add_node(\"chatbot\", RunnableLambda(chatbot_node))\n",
        "graph.set_entry_point(\"chatbot\")\n",
        "graph.set_finish_point(\"chatbot\")\n",
        "\n",
        "executable_graph = graph.compile()\n",
        "\n"
      ],
      "metadata": {
        "colab": {
          "base_uri": "https://localhost:8080/"
        },
        "id": "aRiepet0VqLf",
        "outputId": "e38265e2-d452-40cf-c2bf-e7979f2d01bc"
      },
      "execution_count": 20,
      "outputs": [
        {
          "name": "stdout",
          "output_type": "stream",
          "text": [
            "🔐 Enter your Google API Key: ··········\n"
          ]
        }
      ]
    },
    {
      "cell_type": "code",
      "source": [
        "output = executable_graph.invoke({\"input\": \"What is (69+56*2)-86)?\",\"output\":\"\"})\n",
        "print(output[\"output\"])"
      ],
      "metadata": {
        "colab": {
          "base_uri": "https://localhost:8080/"
        },
        "id": "qkR3ugtqV17E",
        "outputId": "5f9b0c6a-741a-4552-d632-1a89792ea7a6"
      },
      "execution_count": 21,
      "outputs": [
        {
          "output_type": "stream",
          "name": "stderr",
          "text": [
            "<ipython-input-20-927e94782486>:36: LangChainDeprecationWarning: The method `BaseTool.__call__` was deprecated in langchain-core 0.1.47 and will be removed in 1.0. Use :meth:`~invoke` instead.\n",
            "  state[\"output\"] = state[\"output\"] + calculator_tool(user_input)\n"
          ]
        },
        {
          "output_type": "stream",
          "name": "stdout",
          "text": [
            "Here's how to solve the equation step-by-step:\n",
            "\n",
            "1. **Multiplication first:** 56 * 2 = 112\n",
            "\n",
            "2. **Addition:** 69 + 112 = 181\n",
            "\n",
            "3. **Subtraction:** 181 - 86 = 95\n",
            "\n",
            "Therefore, the answer is $\\boxed{95}$\n"
          ]
        }
      ]
    },
    {
      "cell_type": "code",
      "source": [
        "from IPython.display import Image, display\n",
        "display(Image(executable_graph.get_graph().draw_mermaid_png()))"
      ],
      "metadata": {
        "colab": {
          "base_uri": "https://localhost:8080/",
          "height": 251
        },
        "id": "Ryk6eGZwWCmP",
        "outputId": "0997333b-0922-4357-e3fd-1ecc9ffe6755"
      },
      "execution_count": 22,
      "outputs": [
        {
          "output_type": "display_data",
          "data": {
            "image/png": "[encoded data removed]",
            "text/plain": [
              "<IPython.core.display.Image object>"
            ]
          },
          "metadata": {}
        }
      ]
    },
    {
      "cell_type": "code",
      "source": [
        "!pip install spacy\n",
        "!python -m spacy download en_core_web_sm\n",
        "!python -m spacy download en_core_web_sm\n"
      ],
      "metadata": {
        "colab": {
          "base_uri": "https://localhost:8080/"
        },
        "id": "vG05x5SZW6CA",
        "outputId": "b8c5aaf2-8a38-4995-c393-bb09a6af69f2"
      },
      "execution_count": 24,
      "outputs": [
        {
          "output_type": "stream",
          "name": "stdout",
          "text": [
            "Requirement already satisfied: spacy in /usr/local/lib/python3.11/dist-packages (3.8.5)\n",
            "Requirement already satisfied: spacy-legacy<3.1.0,>=3.0.11 in /usr/local/lib/python3.11/dist-packages (from spacy) (3.0.12)\n",
            "Requirement already satisfied: spacy-loggers<2.0.0,>=1.0.0 in /usr/local/lib/python3.11/dist-packages (from spacy) (1.0.5)\n",
            "Requirement already satisfied: murmurhash<1.1.0,>=0.28.0 in /usr/local/lib/python3.11/dist-packages (from spacy) (1.0.12)\n",
            "Requirement already satisfied: cymem<2.1.0,>=2.0.2 in /usr/local/lib/python3.11/dist-packages (from spacy) (2.0.11)\n",
            "Requirement already satisfied: preshed<3.1.0,>=3.0.2 in /usr/local/lib/python3.11/dist-packages (from spacy) (3.0.9)\n",
            "Requirement already satisfied: thinc<8.4.0,>=8.3.4 in /usr/local/lib/python3.11/dist-packages (from spacy) (8.3.6)\n",
            "Requirement already satisfied: wasabi<1.2.0,>=0.9.1 in /usr/local/lib/python3.11/dist-packages (from spacy) (1.1.3)\n",
            "Requirement already satisfied: srsly<3.0.0,>=2.4.3 in /usr/local/lib/python3.11/dist-packages (from spacy) (2.5.1)\n",
            "Requirement already satisfied: catalogue<2.1.0,>=2.0.6 in /usr/local/lib/python3.11/dist-packages (from spacy) (2.0.10)\n",
            "Requirement already satisfied: weasel<0.5.0,>=0.1.0 in /usr/local/lib/python3.11/dist-packages (from spacy) (0.4.1)\n",
            "Requirement already satisfied: typer<1.0.0,>=0.3.0 in /usr/local/lib/python3.11/dist-packages (from spacy) (0.15.3)\n",
            "Requirement already satisfied: tqdm<5.0.0,>=4.38.0 in /usr/local/lib/python3.11/dist-packages (from spacy) (4.67.1)\n",
            "Requirement already satisfied: numpy>=1.19.0 in /usr/local/lib/python3.11/dist-packages (from spacy) (2.0.2)\n",
            "Requirement already satisfied: requests<3.0.0,>=2.13.0 in /usr/local/lib/python3.11/dist-packages (from spacy) (2.32.3)\n",
            "Requirement already satisfied: pydantic!=1.8,!=1.8.1,<3.0.0,>=1.7.4 in /usr/local/lib/python3.11/dist-packages (from spacy) (2.11.4)\n",
            "Requirement already satisfied: jinja2 in /usr/local/lib/python3.11/dist-packages (from spacy) (3.1.6)\n",
            "Requirement already satisfied: setuptools in /usr/local/lib/python3.11/dist-packages (from spacy) (75.2.0)\n",
            "Requirement already satisfied: packaging>=20.0 in /usr/local/lib/python3.11/dist-packages (from spacy) (24.2)\n",
            "Requirement already satisfied: langcodes<4.0.0,>=3.2.0 in /usr/local/lib/python3.11/dist-packages (from spacy) (3.5.0)\n",
            "Requirement already satisfied: language-data>=1.2 in /usr/local/lib/python3.11/dist-packages (from langcodes<4.0.0,>=3.2.0->spacy) (1.3.0)\n",
            "Requirement already satisfied: annotated-types>=0.6.0 in /usr/local/lib/python3.11/dist-packages (from pydantic!=1.8,!=1.8.1,<3.0.0,>=1.7.4->spacy) (0.7.0)\n",
            "Requirement already satisfied: pydantic-core==2.33.2 in /usr/local/lib/python3.11/dist-packages (from pydantic!=1.8,!=1.8.1,<3.0.0,>=1.7.4->spacy) (2.33.2)\n",
            "Requirement already satisfied: typing-extensions>=4.12.2 in /usr/local/lib/python3.11/dist-packages (from pydantic!=1.8,!=1.8.1,<3.0.0,>=1.7.4->spacy) (4.13.2)\n",
            "Requirement already satisfied: typing-inspection>=0.4.0 in /usr/local/lib/python3.11/dist-packages (from pydantic!=1.8,!=1.8.1,<3.0.0,>=1.7.4->spacy) (0.4.0)\n",
            "Requirement already satisfied: charset-normalizer<4,>=2 in /usr/local/lib/python3.11/dist-packages (from requests<3.0.0,>=2.13.0->spacy) (3.4.2)\n",
            "Requirement already satisfied: idna<4,>=2.5 in /usr/local/lib/python3.11/dist-packages (from requests<3.0.0,>=2.13.0->spacy) (3.10)\n",
            "Requirement already satisfied: urllib3<3,>=1.21.1 in /usr/local/lib/python3.11/dist-packages (from requests<3.0.0,>=2.13.0->spacy) (2.4.0)\n",
            "Requirement already satisfied: certifi>=2017.4.17 in /usr/local/lib/python3.11/dist-packages (from requests<3.0.0,>=2.13.0->spacy) (2025.4.26)\n",
            "Requirement already satisfied: blis<1.4.0,>=1.3.0 in /usr/local/lib/python3.11/dist-packages (from thinc<8.4.0,>=8.3.4->spacy) (1.3.0)\n",
            "Requirement already satisfied: confection<1.0.0,>=0.0.1 in /usr/local/lib/python3.11/dist-packages (from thinc<8.4.0,>=8.3.4->spacy) (0.1.5)\n",
            "Requirement already satisfied: click>=8.0.0 in /usr/local/lib/python3.11/dist-packages (from typer<1.0.0,>=0.3.0->spacy) (8.2.0)\n",
            "Requirement already satisfied: shellingham>=1.3.0 in /usr/local/lib/python3.11/dist-packages (from typer<1.0.0,>=0.3.0->spacy) (1.5.4)\n",
            "Requirement already satisfied: rich>=10.11.0 in /usr/local/lib/python3.11/dist-packages (from typer<1.0.0,>=0.3.0->spacy) (13.9.4)\n",
            "Requirement already satisfied: cloudpathlib<1.0.0,>=0.7.0 in /usr/local/lib/python3.11/dist-packages (from weasel<0.5.0,>=0.1.0->spacy) (0.21.0)\n",
            "Requirement already satisfied: smart-open<8.0.0,>=5.2.1 in /usr/local/lib/python3.11/dist-packages (from weasel<0.5.0,>=0.1.0->spacy) (7.1.0)\n",
            "Requirement already satisfied: MarkupSafe>=2.0 in /usr/local/lib/python3.11/dist-packages (from jinja2->spacy) (3.0.2)\n",
            "Requirement already satisfied: marisa-trie>=1.1.0 in /usr/local/lib/python3.11/dist-packages (from language-data>=1.2->langcodes<4.0.0,>=3.2.0->spacy) (1.2.1)\n",
            "Requirement already satisfied: markdown-it-py>=2.2.0 in /usr/local/lib/python3.11/dist-packages (from rich>=10.11.0->typer<1.0.0,>=0.3.0->spacy) (3.0.0)\n",
            "Requirement already satisfied: pygments<3.0.0,>=2.13.0 in /usr/local/lib/python3.11/dist-packages (from rich>=10.11.0->typer<1.0.0,>=0.3.0->spacy) (2.19.1)\n",
            "Requirement already satisfied: wrapt in /usr/local/lib/python3.11/dist-packages (from smart-open<8.0.0,>=5.2.1->weasel<0.5.0,>=0.1.0->spacy) (1.17.2)\n",
            "Requirement already satisfied: mdurl~=0.1 in /usr/local/lib/python3.11/dist-packages (from markdown-it-py>=2.2.0->rich>=10.11.0->typer<1.0.0,>=0.3.0->spacy) (0.1.2)\n",
            "Collecting en-core-web-sm==3.8.0\n",
            "  Downloading https://github.com/explosion/spacy-models/releases/download/en_core_web_sm-3.8.0/en_core_web_sm-3.8.0-py3-none-any.whl (12.8 MB)\n",
            "\u001b[2K     \u001b[90m━━━━━━━━━━━━━━━━━━━━━━━━━━━━━━━━━━━━━━━━\u001b[0m \u001b[32m12.8/12.8 MB\u001b[0m \u001b[31m95.6 MB/s\u001b[0m eta \u001b[36m0:00:00\u001b[0m\n",
            "\u001b[?25h\u001b[38;5;2m✔ Download and installation successful\u001b[0m\n",
            "You can now load the package via spacy.load('en_core_web_sm')\n",
            "\u001b[38;5;3m⚠ Restart to reload dependencies\u001b[0m\n",
            "If you are in a Jupyter or Colab notebook, you may need to restart Python in\n",
            "order to load all the package's dependencies. You can do this by selecting the\n",
            "'Restart kernel' or 'Restart runtime' option.\n",
            "Collecting en-core-web-sm==3.8.0\n",
            "  Downloading https://github.com/explosion/spacy-models/releases/download/en_core_web_sm-3.8.0/en_core_web_sm-3.8.0-py3-none-any.whl (12.8 MB)\n",
            "\u001b[2K     \u001b[90m━━━━━━━━━━━━━━━━━━━━━━━━━━━━━━━━━━━━━━━━\u001b[0m \u001b[32m12.8/12.8 MB\u001b[0m \u001b[31m80.2 MB/s\u001b[0m eta \u001b[36m0:00:00\u001b[0m\n",
            "\u001b[?25h\u001b[38;5;2m✔ Download and installation successful\u001b[0m\n",
            "You can now load the package via spacy.load('en_core_web_sm')\n",
            "\u001b[38;5;3m⚠ Restart to reload dependencies\u001b[0m\n",
            "If you are in a Jupyter or Colab notebook, you may need to restart Python in\n",
            "order to load all the package's dependencies. You can do this by selecting the\n",
            "'Restart kernel' or 'Restart runtime' option.\n"
          ]
        }
      ]
    },
    {
      "cell_type": "code",
      "source": [
        "from langchain_core.tools import tool\n",
        "import spacy\n",
        "\n",
        "# Load spaCy model once globally for efficiency\n",
        "nlp = spacy.load(\"en_core_web_lg\")\n",
        "\n",
        "# Ensure llm is defined (e.g., ChatGoogleGenerativeAI or ChatOpenAI)\n",
        "# llm = ChatGoogleGenerativeAI(model=\"gemini-1.5-flash\")  # example setup\n",
        "\n",
        "@tool(\"fashion_tool\", parse_docstring=True)\n",
        "def fashion_tool(input_text: str) -> str:\n",
        "    \"\"\"\n",
        "    Answers fashion-related questions by providing trending clothing suggestions based on the location mentioned in the input.\n",
        "\n",
        "    Args:\n",
        "        input_text: A user question or message related to fashion, optionally mentioning a place (e.g., city or country).\n",
        "\n",
        "    Returns:\n",
        "        A short list of trending fashion suggestions relevant to the mentioned location, or a message if no location is found.\n",
        "    \"\"\"\n",
        "    try:\n",
        "        doc = nlp(input_text)\n",
        "        for ent in doc.ents:\n",
        "            if ent.label_ == \"GPE\":\n",
        "                return llm.invoke(\n",
        "                    f\"Give 4-5 examples of trending clothes in {ent.text}. Keep it short and relevant to current fashion trends.\"\n",
        "                ).content\n",
        "        return \"🌍 Please mention a location (city or country) to get fashion suggestions.\"\n",
        "    except Exception as e:\n",
        "        return f\"⚠️ Error in fashion tool: {e}\"\n"
      ],
      "metadata": {
        "id": "nM0FCG5xW9ki"
      },
      "execution_count": 26,
      "outputs": []
    },
    {
      "cell_type": "code",
      "source": [
        "def main():\n",
        "    print(\"Welcome to the Fashion Assistant!\")\n",
        "    print(\"Please ask a question about fashion, including a location (city or country).\")\n",
        "\n",
        "    # Get user input\n",
        "    user_question = input(\"Your question: \")\n",
        "\n",
        "    # Call the fashion_tool\n",
        "    response = fashion_tool(user_question)\n",
        "\n",
        "    # Print the tool's response\n",
        "    print(\"\\nFashion Assistant says:\")\n",
        "    print(response)\n",
        "\n",
        "if __name__ == \"__main__\":\n",
        "    main()\n"
      ],
      "metadata": {
        "colab": {
          "base_uri": "https://localhost:8080/"
        },
        "id": "JTOvWS2gYoq4",
        "outputId": "98bcd7de-99a4-4f2c-99e2-7ce4cc2c79bf"
      },
      "execution_count": 27,
      "outputs": [
        {
          "output_type": "stream",
          "name": "stdout",
          "text": [
            "Welcome to the Fashion Assistant!\n",
            "Please ask a question about fashion, including a location (city or country).\n",
            "Your question: Milan fashion\n",
            "\n",
            "Fashion Assistant says:\n",
            "1. **Elevated basics:**  High-quality, minimalist knitwear and tailored trousers in neutral tones.\n",
            "2. **Bold shoulders:**  Structured blazers and jackets with strong shoulder lines.\n",
            "3. **Statement outerwear:**  Maximalist coats in vibrant colors or unique textures (e.g., shearling, faux fur).\n",
            "4. **Leather everything:**  Leather pants, skirts, and jackets in various shades and finishes.\n",
            "5. **Italian craftsmanship:**  Focus on luxurious fabrics and impeccable tailoring, regardless of specific style.\n"
          ]
        }
      ]
    },
    {
      "cell_type": "code",
      "source": [
        "import requests\n",
        "from getpass import getpass\n",
        "from datetime import datetime\n",
        "import spacy\n",
        "from langchain_core.tools import tool\n",
        "\n",
        "# Load spaCy model globally\n",
        "nlp = spacy.load(\"en_core_web_lg\")\n",
        "\n",
        "# Ask user to securely enter their API key\n",
        "API_KEY = getpass(\"🔐 Enter your OpenWeatherMap API Key: \")\n",
        "\n",
        "@tool(\"weather_tool\", parse_docstring=True)\n",
        "def get_weather(input_text: str, API_KEY: str) -> str:\n",
        "    \"\"\"\n",
        "    Answers weather-related questions by fetching current weather data based on the city mentioned.\n",
        "\n",
        "    Args:\n",
        "        input_text: A user question or message containing a city name.\n",
        "        API_KEY: OpenWeatherMap API key.\n",
        "\n",
        "    Returns:\n",
        "        A weather summary for the mentioned city.\n",
        "    \"\"\"\n",
        "    city_name = \"\"\n",
        "\n",
        "    doc = nlp(input_text)\n",
        "    for ent in doc.ents:\n",
        "        if ent.label_ == \"GPE\":\n",
        "            city_name = ent.text\n",
        "            break\n",
        "    else:\n",
        "        city_name = input_text  # fallback if no entity found\n",
        "\n",
        "    url = f\"http://api.openweathermap.org/data/2.5/weather?q={city_name}&units=metric&appid={API_KEY}\"\n",
        "    response = requests.get(url)\n",
        "    data = response.json()\n",
        "\n",
        "    if response.status_code != 200 or \"main\" not in data:\n",
        "        return f\"⚠️ Could not fetch weather data for '{city_name}'. Error: {data.get('message', 'Unknown error')}\"\n",
        "\n",
        "    temp = data[\"main\"][\"temp\"]\n",
        "    feels_like = data[\"main\"][\"feels_like\"]\n",
        "    humidity = data[\"main\"][\"humidity\"]\n",
        "    pressure = data[\"main\"][\"pressure\"]\n",
        "    wind_speed = data[\"wind\"][\"speed\"]\n",
        "    description = data[\"weather\"][0][\"description\"].capitalize()\n",
        "    clouds = data[\"clouds\"][\"all\"]\n",
        "    visibility = data.get(\"visibility\", \"Unknown\")\n",
        "\n",
        "    sunrise = datetime.utcfromtimestamp(data[\"sys\"][\"sunrise\"]).strftime('%H:%M UTC')\n",
        "    sunset = datetime.utcfromtimestamp(data[\"sys\"][\"sunset\"]).strftime('%H:%M UTC')\n",
        "\n",
        "    return (\n",
        "        f\"🌤️ Weather in {city_name}:\\n\"\n",
        "        f\"- Description: {description}\\n\"\n",
        "        f\"- Temperature: {temp}°C (Feels like: {feels_like}°C)\\n\"\n",
        "        f\"- Humidity: {humidity}%\\n\"\n",
        "        f\"- Pressure: {pressure} hPa\\n\"\n",
        "        f\"- Wind Speed: {wind_speed} m/s\\n\"\n",
        "        f\"- Cloud Cover: {clouds}%\\n\"\n",
        "        f\"- Visibility: {visibility} meters\\n\"\n",
        "        f\"- Sunrise: {sunrise} | Sunset: {sunset}\"\n",
        "    )\n",
        "\n",
        "# Simple interactive CLI to use the weather tool\n",
        "def main():\n",
        "    print(\"🌦️ Welcome to the Weather Assistant!\")\n",
        "    print(\"Ask a question about the weather, including a city name.\")\n",
        "\n",
        "    user_question = input(\"Your question: \")\n",
        "    result = get_weather.invoke({\"input_text\": user_question, \"API_KEY\": API_KEY})\n",
        "\n",
        "    print(\"\\nWeather Assistant says:\")\n",
        "    print(result)\n",
        "\n",
        "if __name__ == \"__main__\":\n",
        "    main()\n",
        "\n"
      ],
      "metadata": {
        "colab": {
          "base_uri": "https://localhost:8080/"
        },
        "id": "5Z9r6Pn-biF5",
        "outputId": "fe0a4f75-e8ad-49bc-f64d-3eab5ee72fa8"
      },
      "execution_count": 29,
      "outputs": [
        {
          "output_type": "stream",
          "name": "stdout",
          "text": [
            "🔐 Enter your OpenWeatherMap API Key: ··········\n",
            "🌦️ Welcome to the Weather Assistant!\n",
            "Ask a question about the weather, including a city name.\n",
            "Your question: bhubaneswar \n",
            "\n",
            "Weather Assistant says:\n",
            "⚠️ Could not fetch weather data for 'bhubaneswar '. Error: city not found\n"
          ]
        }
      ]
    },
    {
      "cell_type": "code",
      "source": [
        "\n",
        "\n",
        "!pip install langgraph"
      ],
      "metadata": {
        "colab": {
          "base_uri": "https://localhost:8080/"
        },
        "id": "e6FQB5BVby_c",
        "outputId": "036e9dda-0150-46eb-be36-59182b22a77b"
      },
      "execution_count": 30,
      "outputs": [
        {
          "output_type": "stream",
          "name": "stdout",
          "text": [
            "Requirement already satisfied: langgraph in /usr/local/lib/python3.11/dist-packages (0.4.7)\n",
            "Requirement already satisfied: langchain-core>=0.1 in /usr/local/lib/python3.11/dist-packages (from langgraph) (0.3.59)\n",
            "Requirement already satisfied: langgraph-checkpoint>=2.0.26 in /usr/local/lib/python3.11/dist-packages (from langgraph) (2.0.26)\n",
            "Requirement already satisfied: langgraph-prebuilt>=0.2.0 in /usr/local/lib/python3.11/dist-packages (from langgraph) (0.2.1)\n",
            "Requirement already satisfied: langgraph-sdk>=0.1.42 in /usr/local/lib/python3.11/dist-packages (from langgraph) (0.1.70)\n",
            "Requirement already satisfied: pydantic>=2.7.4 in /usr/local/lib/python3.11/dist-packages (from langgraph) (2.11.4)\n",
            "Requirement already satisfied: xxhash>=3.5.0 in /usr/local/lib/python3.11/dist-packages (from langgraph) (3.5.0)\n",
            "Requirement already satisfied: langsmith<0.4,>=0.1.125 in /usr/local/lib/python3.11/dist-packages (from langchain-core>=0.1->langgraph) (0.3.42)\n",
            "Requirement already satisfied: tenacity!=8.4.0,<10.0.0,>=8.1.0 in /usr/local/lib/python3.11/dist-packages (from langchain-core>=0.1->langgraph) (9.1.2)\n",
            "Requirement already satisfied: jsonpatch<2.0,>=1.33 in /usr/local/lib/python3.11/dist-packages (from langchain-core>=0.1->langgraph) (1.33)\n",
            "Requirement already satisfied: PyYAML>=5.3 in /usr/local/lib/python3.11/dist-packages (from langchain-core>=0.1->langgraph) (6.0.2)\n",
            "Requirement already satisfied: packaging<25,>=23.2 in /usr/local/lib/python3.11/dist-packages (from langchain-core>=0.1->langgraph) (24.2)\n",
            "Requirement already satisfied: typing-extensions>=4.7 in /usr/local/lib/python3.11/dist-packages (from langchain-core>=0.1->langgraph) (4.13.2)\n",
            "Requirement already satisfied: ormsgpack<2.0.0,>=1.8.0 in /usr/local/lib/python3.11/dist-packages (from langgraph-checkpoint>=2.0.26->langgraph) (1.9.1)\n",
            "Requirement already satisfied: httpx>=0.25.2 in /usr/local/lib/python3.11/dist-packages (from langgraph-sdk>=0.1.42->langgraph) (0.28.1)\n",
            "Requirement already satisfied: orjson>=3.10.1 in /usr/local/lib/python3.11/dist-packages (from langgraph-sdk>=0.1.42->langgraph) (3.10.18)\n",
            "Requirement already satisfied: annotated-types>=0.6.0 in /usr/local/lib/python3.11/dist-packages (from pydantic>=2.7.4->langgraph) (0.7.0)\n",
            "Requirement already satisfied: pydantic-core==2.33.2 in /usr/local/lib/python3.11/dist-packages (from pydantic>=2.7.4->langgraph) (2.33.2)\n",
            "Requirement already satisfied: typing-inspection>=0.4.0 in /usr/local/lib/python3.11/dist-packages (from pydantic>=2.7.4->langgraph) (0.4.0)\n",
            "Requirement already satisfied: anyio in /usr/local/lib/python3.11/dist-packages (from httpx>=0.25.2->langgraph-sdk>=0.1.42->langgraph) (4.9.0)\n",
            "Requirement already satisfied: certifi in /usr/local/lib/python3.11/dist-packages (from httpx>=0.25.2->langgraph-sdk>=0.1.42->langgraph) (2025.4.26)\n",
            "Requirement already satisfied: httpcore==1.* in /usr/local/lib/python3.11/dist-packages (from httpx>=0.25.2->langgraph-sdk>=0.1.42->langgraph) (1.0.9)\n",
            "Requirement already satisfied: idna in /usr/local/lib/python3.11/dist-packages (from httpx>=0.25.2->langgraph-sdk>=0.1.42->langgraph) (3.10)\n",
            "Requirement already satisfied: h11>=0.16 in /usr/local/lib/python3.11/dist-packages (from httpcore==1.*->httpx>=0.25.2->langgraph-sdk>=0.1.42->langgraph) (0.16.0)\n",
            "Requirement already satisfied: jsonpointer>=1.9 in /usr/local/lib/python3.11/dist-packages (from jsonpatch<2.0,>=1.33->langchain-core>=0.1->langgraph) (3.0.0)\n",
            "Requirement already satisfied: requests<3,>=2 in /usr/local/lib/python3.11/dist-packages (from langsmith<0.4,>=0.1.125->langchain-core>=0.1->langgraph) (2.32.3)\n",
            "Requirement already satisfied: requests-toolbelt<2.0.0,>=1.0.0 in /usr/local/lib/python3.11/dist-packages (from langsmith<0.4,>=0.1.125->langchain-core>=0.1->langgraph) (1.0.0)\n",
            "Requirement already satisfied: zstandard<0.24.0,>=0.23.0 in /usr/local/lib/python3.11/dist-packages (from langsmith<0.4,>=0.1.125->langchain-core>=0.1->langgraph) (0.23.0)\n",
            "Requirement already satisfied: charset-normalizer<4,>=2 in /usr/local/lib/python3.11/dist-packages (from requests<3,>=2->langsmith<0.4,>=0.1.125->langchain-core>=0.1->langgraph) (3.4.2)\n",
            "Requirement already satisfied: urllib3<3,>=1.21.1 in /usr/local/lib/python3.11/dist-packages (from requests<3,>=2->langsmith<0.4,>=0.1.125->langchain-core>=0.1->langgraph) (2.4.0)\n",
            "Requirement already satisfied: sniffio>=1.1 in /usr/local/lib/python3.11/dist-packages (from anyio->httpx>=0.25.2->langgraph-sdk>=0.1.42->langgraph) (1.3.1)\n"
          ]
        }
      ]
    },
    {
      "cell_type": "code",
      "source": [
        "from langgraph.graph import StateGraph, END\n",
        "from langchain_core.runnables import RunnableLambda\n",
        "from typing import TypedDict\n",
        "\n",
        "class MemoryState(TypedDict):\n",
        "    User: list[str]\n",
        "    Bot: list[str]\n",
        "\n",
        "class GraphState(TypedDict):\n",
        "    input : str\n",
        "    output : str\n",
        "\n",
        "\n",
        "from getpass import getpass\n",
        "\n",
        "# Global configuration dict to store persistent data\n",
        "CONFIG = {\n",
        "    \"API_KEY\": None\n",
        "}\n",
        "\n",
        "def chatbot_node(state: GraphState) -> GraphState:\n",
        "    user_input = state[\"input\"]\n",
        "\n",
        "    if any(operator in user_input for operator in \"+-/*\"):\n",
        "        state[\"output\"] += calculator_tool(user_input)\n",
        "\n",
        "    elif any(word in user_input.lower() for word in [\"weather\", \"climate\", \"temperature\", \"humidity\", \"rainfall\", \"wind\", \"sunrise\", \"sunset\"]):\n",
        "        if CONFIG[\"API_KEY\"] is None:\n",
        "            CONFIG[\"API_KEY\"] = getpass(\"🔐 Enter your OpenWeatherMap API Key: \")\n",
        "        state[\"output\"] += get_weather.invoke({\n",
        "            \"input_text\": user_input,\n",
        "            \"API_KEY\": CONFIG[\"API_KEY\"]\n",
        "        })\n",
        "\n",
        "    elif any(word in user_input.lower() for word in [\"fashion\", \"trends\",\"trend\", \"clothing\", \"clothes\", \"wear\",\"trending\"]):\n",
        "        state[\"output\"] += fashion_tool(user_input)\n",
        "\n",
        "    else:\n",
        "        state[\"output\"] += \"Please ask something regarding calculating, weather, or fashion trends — one domain at a time.\"\n",
        "\n",
        "    return state\n",
        "Memory = {\n",
        "    \"User\" : [],\n",
        "    \"Bot\" : [],\n",
        "}\n",
        "print(\"Bot : You may ask something regardin Calculating or weather or fashion trends and at a time only one domain. Please enter exit if you want to end the conversation\")\n",
        "Memory[\"Bot\"].append(\"Bot : You may ask something regardin Calculating or weather or fashion trends and at a time only one domain. Please enter exit if you want to end the conversation\")\n",
        "while True:\n",
        "  user_input = input(\"User : \")\n",
        "  if user_input.lower() == \"exit\":\n",
        "    break\n",
        "  Memory[\"User\"].append(user_input)\n",
        "  graph = StateGraph(GraphState)\n",
        "  graph.add_node(\"chatbot\", RunnableLambda(chatbot_node))\n",
        "  graph.set_entry_point(\"chatbot\")\n",
        "  graph.set_finish_point(\"chatbot\")\n",
        "  executable_graph = graph.compile()\n",
        "  output = executable_graph.invoke({\"input\": user_input,\"output\":\"\"})\n",
        "  Memory[\"Bot\"].append(output[\"output\"])\n",
        "  print(\"Bot : \",output[\"output\"])\n"
      ],
      "metadata": {
        "colab": {
          "base_uri": "https://localhost:8080/"
        },
        "id": "HadalC7ab5GE",
        "outputId": "cea5e273-1f27-48a6-abb8-a17bf1cbdf94"
      },
      "execution_count": 32,
      "outputs": [
        {
          "name": "stdout",
          "output_type": "stream",
          "text": [
            "Bot : You may ask something regardin Calculating or weather or fashion trends and at a time only one domain. Please enter exit if you want to end the conversation\n",
            "User : Milan weather\n",
            "🔐 Enter your OpenWeatherMap API Key: ··········\n",
            "Bot :  🌤️ Weather in Milan:\n",
            "- Description: Clear sky\n",
            "- Temperature: 20.86°C (Feels like: 20.18°C)\n",
            "- Humidity: 45%\n",
            "- Pressure: 1014 hPa\n",
            "- Wind Speed: 2.57 m/s\n",
            "- Cloud Cover: 0%\n",
            "- Visibility: 10000 meters\n",
            "- Sunrise: 03:43 UTC | Sunset: 18:56 UTC\n",
            "User : Milan fashion\n",
            "Bot :  1. **Elevated basics:**  High-quality, minimalist pieces in neutral tones like beige, cream, and grey, often featuring subtle detailing.\n",
            "2. **Bold shoulders:**  Structured blazers and jackets with strong shoulder lines, adding a powerful silhouette.\n",
            "3. **Statement outerwear:**  Oversized coats in vibrant colors or unique textures (like shearling or bouclé).\n",
            "4. **Tailored trousers:**  Wide-leg or straight-leg trousers in luxurious fabrics like wool or silk, often paired with fitted tops.\n",
            "5. **Leather accents:**  Leather jackets, skirts, or trousers, incorporated into otherwise classic or casual outfits.\n",
            "User : exut\n",
            "Bot :  Please ask something regarding calculating, weather, or fashion trends — one domain at a time.\n",
            "User : exit\n"
          ]
        }
      ]
    },
    {
      "cell_type": "code",
      "source": [],
      "metadata": {
        "id": "KRL17r25cNPG"
      },
      "execution_count": null,
      "outputs": []
    }
  ],
  "metadata": {
    "colab": {
      "provenance": [],
      "authorship_tag": "ABX9TyOFLoaFg40t9ArQF8SVMQSi",
      "include_colab_link": true
    },
    "kernelspec": {
      "display_name": "Python 3",
      "name": "python3"
    },
    "language_info": {
      "name": "python"
    }
  },
  "nbformat": 4,
  "nbformat_minor": 0
}